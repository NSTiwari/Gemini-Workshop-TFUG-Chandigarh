{
  "nbformat": 4,
  "nbformat_minor": 0,
  "metadata": {
    "colab": {
      "provenance": []
    },
    "kernelspec": {
      "name": "python3",
      "display_name": "Python 3"
    },
    "language_info": {
      "name": "python"
    }
  },
  "cells": [
    {
      "cell_type": "code",
      "execution_count": null,
      "metadata": {
        "id": "MvLYXZgnDtpR"
      },
      "outputs": [],
      "source": [
        "!pip install -q -U google-generativeai"
      ]
    },
    {
      "cell_type": "code",
      "source": [
        "from google.colab import userdata\n",
        "import google.generativeai as genai\n",
        "from PIL import Image"
      ],
      "metadata": {
        "id": "wu0tndH-EWWa"
      },
      "execution_count": 27,
      "outputs": []
    },
    {
      "cell_type": "code",
      "source": [
        "API_KEY = userdata.get('gemini')\n",
        "\n",
        "# Configure the API key.\n",
        "genai.configure(api_key=API_KEY)"
      ],
      "metadata": {
        "id": "vwgeclsWEeRf"
      },
      "execution_count": 3,
      "outputs": []
    },
    {
      "cell_type": "code",
      "source": [
        "# List all available models.\n",
        "for m in genai.list_models():\n",
        "  if 'generateContent' in m.supported_generation_methods:\n",
        "    print(m.name)"
      ],
      "metadata": {
        "colab": {
          "base_uri": "https://localhost:8080/",
          "height": 121
        },
        "id": "fqSFjUZ6JmWJ",
        "outputId": "cc1fee37-2ab9-4f63-a79c-712de1d6a15d"
      },
      "execution_count": 28,
      "outputs": [
        {
          "output_type": "stream",
          "name": "stdout",
          "text": [
            "models/gemini-1.0-pro\n",
            "models/gemini-1.0-pro-001\n",
            "models/gemini-1.0-pro-latest\n",
            "models/gemini-1.0-pro-vision-latest\n",
            "models/gemini-pro\n",
            "models/gemini-pro-vision\n"
          ]
        }
      ]
    },
    {
      "cell_type": "markdown",
      "source": [
        "#### Gemini Pro 1.0 (Text input)"
      ],
      "metadata": {
        "id": "AFKdF0QpF6uI"
      }
    },
    {
      "cell_type": "code",
      "source": [
        "# Configure the model.\n",
        "model = genai.GenerativeModel(model_name='gemini-pro')\n",
        "prompt = \"Suggest some best places to visit in India.\"\n",
        "# Give the input image and prompt, get response.\n",
        "\n",
        "response = model.generate_content(prompt)"
      ],
      "metadata": {
        "id": "tJ4ADvVDEq3g"
      },
      "execution_count": null,
      "outputs": []
    },
    {
      "cell_type": "code",
      "source": [
        "print(response.text)"
      ],
      "metadata": {
        "id": "-GTaHkgbKu_U"
      },
      "execution_count": null,
      "outputs": []
    },
    {
      "cell_type": "code",
      "source": [
        "print(response.prompt_feedback)"
      ],
      "metadata": {
        "id": "1CbFuvjTIRDI"
      },
      "execution_count": null,
      "outputs": []
    },
    {
      "cell_type": "markdown",
      "source": [
        "#### Gemini Pro Vision 1.0 (Text + image input)"
      ],
      "metadata": {
        "id": "eaDh83JVGZrs"
      }
    },
    {
      "cell_type": "code",
      "source": [
        "# Configure the model.\n",
        "model = genai.GenerativeModel(model_name='gemini-pro-vision')\n",
        "\n",
        "# Load the image.\n",
        "img = Image.open('/content/04.jpg')\n",
        "img"
      ],
      "metadata": {
        "id": "M83-MtofFwIo"
      },
      "execution_count": null,
      "outputs": []
    },
    {
      "cell_type": "code",
      "source": [
        "prompt = \"Identify the landmark in the image.\"\n",
        "\n",
        "# Give the input image and prompt, get response.\n",
        "response = model.generate_content([prompt, img], stream=True)\n",
        "response.resolve()\n",
        "\n",
        "print(response.text)"
      ],
      "metadata": {
        "colab": {
          "base_uri": "https://localhost:8080/",
          "height": 34
        },
        "id": "dNo0DB1qHm8J",
        "outputId": "09fa515f-1115-440c-d1d0-9165011a6c21"
      },
      "execution_count": 35,
      "outputs": [
        {
          "output_type": "stream",
          "name": "stdout",
          "text": [
            " This is the Kalyan Minaret in Bukhara, Uzbekistan.\n"
          ]
        }
      ]
    }
  ]
}